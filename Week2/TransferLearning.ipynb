{
 "cells": [
  {
   "cell_type": "code",
   "execution_count": 1,
   "id": "4ad8e516",
   "metadata": {},
   "outputs": [
    {
     "name": "stderr",
     "output_type": "stream",
     "text": [
      "c:\\Users\\HP\\AppData\\Local\\Programs\\Python\\Python313\\Lib\\site-packages\\tqdm\\auto.py:21: TqdmWarning: IProgress not found. Please update jupyter and ipywidgets. See https://ipywidgets.readthedocs.io/en/stable/user_install.html\n",
      "  from .autonotebook import tqdm as notebook_tqdm\n"
     ]
    },
    {
     "name": "stdout",
     "output_type": "stream",
     "text": [
      "Downloading: \"https://download.pytorch.org/models/mobilenet_v2-7ebf99e0.pth\" to C:\\Users\\HP/.cache\\torch\\hub\\checkpoints\\mobilenet_v2-7ebf99e0.pth\n"
     ]
    },
    {
     "name": "stderr",
     "output_type": "stream",
     "text": [
      "100%|██████████| 13.6M/13.6M [00:03<00:00, 3.76MB/s]\n",
      "                                                 \r"
     ]
    },
    {
     "name": "stdout",
     "output_type": "stream",
     "text": [
      "[Phase 1 | Epoch 1/5] Train F1: 0.5222 | Val F1: 0.6646\n"
     ]
    },
    {
     "name": "stderr",
     "output_type": "stream",
     "text": [
      "                                                 \r"
     ]
    },
    {
     "name": "stdout",
     "output_type": "stream",
     "text": [
      "[Phase 1 | Epoch 2/5] Train F1: 0.6371 | Val F1: 0.6722\n"
     ]
    },
    {
     "name": "stderr",
     "output_type": "stream",
     "text": [
      "                                                 \r"
     ]
    },
    {
     "name": "stdout",
     "output_type": "stream",
     "text": [
      "[Phase 1 | Epoch 3/5] Train F1: 0.6644 | Val F1: 0.7203\n"
     ]
    },
    {
     "name": "stderr",
     "output_type": "stream",
     "text": [
      "                                                 \r"
     ]
    },
    {
     "name": "stdout",
     "output_type": "stream",
     "text": [
      "[Phase 1 | Epoch 4/5] Train F1: 0.6768 | Val F1: 0.7370\n"
     ]
    },
    {
     "name": "stderr",
     "output_type": "stream",
     "text": [
      "                                                 \r"
     ]
    },
    {
     "name": "stdout",
     "output_type": "stream",
     "text": [
      "[Phase 1 | Epoch 5/5] Train F1: 0.6834 | Val F1: 0.7320\n"
     ]
    },
    {
     "name": "stderr",
     "output_type": "stream",
     "text": [
      "                                                 \r"
     ]
    },
    {
     "name": "stdout",
     "output_type": "stream",
     "text": [
      "[Phase 2 | Epoch 1/15] Train F1: 0.8330 | Val F1: 0.9563\n"
     ]
    },
    {
     "name": "stderr",
     "output_type": "stream",
     "text": [
      "                                                 \r"
     ]
    },
    {
     "name": "stdout",
     "output_type": "stream",
     "text": [
      "[Phase 2 | Epoch 2/15] Train F1: 0.9506 | Val F1: 0.9877\n"
     ]
    },
    {
     "name": "stderr",
     "output_type": "stream",
     "text": [
      "                                                 \r"
     ]
    },
    {
     "name": "stdout",
     "output_type": "stream",
     "text": [
      "[Phase 2 | Epoch 3/15] Train F1: 0.9751 | Val F1: 0.9928\n"
     ]
    },
    {
     "name": "stderr",
     "output_type": "stream",
     "text": [
      "                                                 \r"
     ]
    },
    {
     "name": "stdout",
     "output_type": "stream",
     "text": [
      "[Phase 2 | Epoch 4/15] Train F1: 0.9865 | Val F1: 0.9941\n"
     ]
    },
    {
     "name": "stderr",
     "output_type": "stream",
     "text": [
      "                                                 \r"
     ]
    },
    {
     "name": "stdout",
     "output_type": "stream",
     "text": [
      "[Phase 2 | Epoch 5/15] Train F1: 0.9900 | Val F1: 0.9941\n"
     ]
    },
    {
     "name": "stderr",
     "output_type": "stream",
     "text": [
      "                                                 \r"
     ]
    },
    {
     "name": "stdout",
     "output_type": "stream",
     "text": [
      "[Phase 2 | Epoch 6/15] Train F1: 0.9942 | Val F1: 0.9958\n"
     ]
    },
    {
     "name": "stderr",
     "output_type": "stream",
     "text": [
      "                                                 \r"
     ]
    },
    {
     "name": "stdout",
     "output_type": "stream",
     "text": [
      "[Phase 2 | Epoch 7/15] Train F1: 0.9951 | Val F1: 0.9941\n"
     ]
    },
    {
     "name": "stderr",
     "output_type": "stream",
     "text": [
      "                                                 \r"
     ]
    },
    {
     "name": "stdout",
     "output_type": "stream",
     "text": [
      "[Phase 2 | Epoch 8/15] Train F1: 0.9949 | Val F1: 0.9949\n"
     ]
    },
    {
     "name": "stderr",
     "output_type": "stream",
     "text": [
      "                                                 \r"
     ]
    },
    {
     "name": "stdout",
     "output_type": "stream",
     "text": [
      "[Phase 2 | Epoch 9/15] Train F1: 0.9964 | Val F1: 0.9970\n"
     ]
    },
    {
     "name": "stderr",
     "output_type": "stream",
     "text": [
      "                                                 \r"
     ]
    },
    {
     "name": "stdout",
     "output_type": "stream",
     "text": [
      "[Phase 2 | Epoch 10/15] Train F1: 0.9971 | Val F1: 0.9973\n"
     ]
    },
    {
     "name": "stderr",
     "output_type": "stream",
     "text": [
      "                                                 \r"
     ]
    },
    {
     "name": "stdout",
     "output_type": "stream",
     "text": [
      "[Phase 2 | Epoch 11/15] Train F1: 0.9980 | Val F1: 0.9981\n"
     ]
    },
    {
     "name": "stderr",
     "output_type": "stream",
     "text": [
      "                                                 \r"
     ]
    },
    {
     "name": "stdout",
     "output_type": "stream",
     "text": [
      "[Phase 2 | Epoch 12/15] Train F1: 0.9989 | Val F1: 0.9981\n"
     ]
    },
    {
     "name": "stderr",
     "output_type": "stream",
     "text": [
      "                                                 \r"
     ]
    },
    {
     "name": "stdout",
     "output_type": "stream",
     "text": [
      "[Phase 2 | Epoch 13/15] Train F1: 0.9976 | Val F1: 0.9992\n"
     ]
    },
    {
     "name": "stderr",
     "output_type": "stream",
     "text": [
      "                                                 \r"
     ]
    },
    {
     "name": "stdout",
     "output_type": "stream",
     "text": [
      "[Phase 2 | Epoch 14/15] Train F1: 0.9979 | Val F1: 0.9992\n"
     ]
    },
    {
     "name": "stderr",
     "output_type": "stream",
     "text": [
      "                                                 \r"
     ]
    },
    {
     "name": "stdout",
     "output_type": "stream",
     "text": [
      "[Phase 2 | Epoch 15/15] Train F1: 0.9984 | Val F1: 0.9983\n",
      "Best validation macro‑F1: 0.9992\n",
      "Training log written to training_log.csv\n",
      "Plots saved: f1_curve.png, loss_curve.png, accuracy_curve.png\n"
     ]
    }
   ],
   "source": [
    "import os, copy, torch, torch.nn as nn\n",
    "from torchvision import models, transforms\n",
    "from torchvision.datasets import ImageFolder\n",
    "from torch.utils.data import DataLoader\n",
    "from sklearn.metrics import f1_score\n",
    "from torch.optim.lr_scheduler import CosineAnnealingLR\n",
    "from tqdm.auto import tqdm\n",
    "import pandas as pd\n",
    "import matplotlib.pyplot as plt\n",
    "\n",
    "# ───────────────────────────── Config ────────────────────────────────\n",
    "train_dir        = r'D:\\Cellula Internship\\Project_1_Teeth_Class\\New_dataSet\\Training'\n",
    "val_dir          = r'D:\\Cellula Internship\\Project_1_Teeth_Class\\New_dataSet\\Validation'\n",
    "\n",
    "num_classes      = 7\n",
    "batch_size       = 32\n",
    "img_size         = 224\n",
    "epochs_phase1    = 5      # train classifier head only\n",
    "epochs_phase2    = 15     # fine‑tune full network\n",
    "lr_head          = 1e-3\n",
    "lr_backbone      = 1e-4\n",
    "weight_decay     = 1e-4\n",
    "patience         = 5      # early‑stop if no val‑F1 improvement for N epochs\n",
    "device           = torch.device('cuda' if torch.cuda.is_available() else 'cpu')\n",
    "\n",
    "# ───────────────────────── Augmentations ─────────────────────────────\n",
    "train_tfms = transforms.Compose([\n",
    "    transforms.Resize((img_size, img_size)),\n",
    "    transforms.RandomHorizontalFlip(),\n",
    "    transforms.RandomRotation(12),\n",
    "    transforms.ColorJitter(brightness=.2, contrast=.2, saturation=.2, hue=.1),\n",
    "    transforms.ToTensor(),\n",
    "    transforms.Normalize([0.485, 0.456, 0.406],\n",
    "                         [0.229, 0.224, 0.225]),\n",
    "])\n",
    "\n",
    "val_tfms = transforms.Compose([\n",
    "    transforms.Resize((img_size, img_size)),\n",
    "    transforms.ToTensor(),\n",
    "    transforms.Normalize([0.485, 0.456, 0.406],\n",
    "                         [0.229, 0.224, 0.225]),\n",
    "])\n",
    "\n",
    "# ───────────────────────────── Data ──────────────────────────────────\n",
    "train_ds = ImageFolder(train_dir, transform=train_tfms)\n",
    "val_ds   = ImageFolder(val_dir,   transform=val_tfms)\n",
    "train_dl = DataLoader(train_ds, batch_size=batch_size, shuffle=True,  num_workers=2, pin_memory=True)\n",
    "val_dl   = DataLoader(val_ds,   batch_size=batch_size, shuffle=False, num_workers=2, pin_memory=True)\n",
    "\n",
    "# ──────────────────────────── Model ──────────────────────────────────\n",
    "weights = models.MobileNet_V2_Weights.DEFAULT          # ImageNet‑1k\n",
    "model   = models.mobilenet_v2(weights=weights)\n",
    "model.classifier[1] = nn.Linear(model.last_channel, num_classes)\n",
    "model = model.to(device)\n",
    "\n",
    "criterion = nn.CrossEntropyLoss()\n",
    "\n",
    "# ─────────────────────── Helper: run one epoch ───────────────────────\n",
    "def run_epoch(dataloader, train_mode=True):\n",
    "    model.train(train_mode)\n",
    "    running_loss, correct, total = 0.0, 0, 0\n",
    "    y_true, y_pred = [], []\n",
    "\n",
    "    for images, labels in tqdm(dataloader, leave=False):\n",
    "        images, labels = images.to(device), labels.to(device)\n",
    "\n",
    "        if train_mode:\n",
    "            optimizer.zero_grad()\n",
    "\n",
    "        with torch.set_grad_enabled(train_mode):\n",
    "            outputs = model(images)\n",
    "            loss = criterion(outputs, labels)\n",
    "\n",
    "            if train_mode:\n",
    "                loss.backward()\n",
    "                optimizer.step()\n",
    "\n",
    "        running_loss += loss.item() * images.size(0)\n",
    "        _, preds = outputs.max(1)\n",
    "        total   += labels.size(0)\n",
    "        correct += preds.eq(labels).sum().item()\n",
    "        y_true.extend(labels.cpu().numpy())\n",
    "        y_pred.extend(preds.cpu().numpy())\n",
    "\n",
    "    epoch_loss = running_loss / total\n",
    "    epoch_acc  = 100 * correct / total\n",
    "    epoch_f1   = f1_score(y_true, y_pred, average='macro')\n",
    "    return epoch_loss, epoch_acc, epoch_f1\n",
    "\n",
    "# ───────────────────────── Logging dict ──────────────────────────────\n",
    "history = {\n",
    "    'epoch':      [],\n",
    "    'phase':      [],\n",
    "    'train_loss': [],\n",
    "    'train_acc':  [],\n",
    "    'train_f1':   [],\n",
    "    'val_loss':   [],\n",
    "    'val_acc':    [],\n",
    "    'val_f1':     [],\n",
    "}\n",
    "\n",
    "def log_epoch(epoch_label, phase_label,\n",
    "              tr_loss, tr_acc, tr_f1,\n",
    "              va_loss, va_acc, va_f1):\n",
    "    history['epoch'].append(epoch_label)\n",
    "    history['phase'].append(phase_label)\n",
    "    history['train_loss'].append(tr_loss)\n",
    "    history['train_acc'].append(tr_acc)\n",
    "    history['train_f1'].append(tr_f1)\n",
    "    history['val_loss'].append(va_loss)\n",
    "    history['val_acc'].append(va_acc)\n",
    "    history['val_f1'].append(va_f1)\n",
    "\n",
    "# ───────────────────────────── Training ──────────────────────────────\n",
    "best_f1, epochs_no_improve, best_state = 0.0, 0, None\n",
    "global_epoch = 0\n",
    "\n",
    "# ─── Phase 1: train head only ────────────────────────────────────────\n",
    "for param in model.features.parameters():\n",
    "    param.requires_grad = False\n",
    "\n",
    "optimizer = torch.optim.Adam(model.classifier.parameters(),\n",
    "                             lr=lr_head, weight_decay=weight_decay)\n",
    "\n",
    "for epoch in range(1, epochs_phase1 + 1):\n",
    "    global_epoch += 1\n",
    "    tr_loss, tr_acc, tr_f1 = run_epoch(train_dl, train_mode=True)\n",
    "    va_loss, va_acc, va_f1 = run_epoch(val_dl,   train_mode=False)\n",
    "\n",
    "    print(f\"[Phase 1 | Epoch {epoch}/{epochs_phase1}] \"\n",
    "          f\"Train F1: {tr_f1:.4f} | Val F1: {va_f1:.4f}\")\n",
    "\n",
    "    log_epoch(global_epoch, 'phase1',\n",
    "              tr_loss, tr_acc, tr_f1,\n",
    "              va_loss, va_acc, va_f1)\n",
    "\n",
    "# ─── Phase 2: fine‑tune whole network ────────────────────────────────\n",
    "for param in model.features.parameters():\n",
    "    param.requires_grad = True\n",
    "\n",
    "optimizer = torch.optim.Adam(model.parameters(),\n",
    "                             lr=lr_backbone, weight_decay=weight_decay)\n",
    "scheduler = CosineAnnealingLR(optimizer, epochs_phase2)\n",
    "\n",
    "for epoch in range(1, epochs_phase2 + 1):\n",
    "    global_epoch += 1\n",
    "    tr_loss, tr_acc, tr_f1 = run_epoch(train_dl, train_mode=True)\n",
    "    va_loss, va_acc, va_f1 = run_epoch(val_dl,   train_mode=False)\n",
    "    scheduler.step()\n",
    "\n",
    "    print(f\"[Phase 2 | Epoch {epoch}/{epochs_phase2}] \"\n",
    "          f\"Train F1: {tr_f1:.4f} | Val F1: {va_f1:.4f}\")\n",
    "\n",
    "    log_epoch(global_epoch, 'phase2',\n",
    "              tr_loss, tr_acc, tr_f1,\n",
    "              va_loss, va_acc, va_f1)\n",
    "\n",
    "    # ── Early stopping on val‑F1 ────────────────────────────────────\n",
    "    if va_f1 > best_f1:\n",
    "        best_f1 = va_f1\n",
    "        epochs_no_improve = 0\n",
    "        best_state = copy.deepcopy(model.state_dict())\n",
    "    else:\n",
    "        epochs_no_improve += 1\n",
    "        if epochs_no_improve >= patience:\n",
    "            print(\"Early stopping triggered.\")\n",
    "            break\n",
    "\n",
    "# ─────────────────── Save best model checkpoint ─────────────────────\n",
    "torch.save(best_state, \"mobilenetv2_best_finetuned.pth\")\n",
    "print(f\"Best validation macro‑F1: {best_f1:.4f}\")\n",
    "\n",
    "# ──────────────────────── Save training logs ────────────────────────\n",
    "df = pd.DataFrame(history)\n",
    "df.to_csv(\"training_log.csv\", index=False)\n",
    "print(\"Training log written to training_log.csv\")\n",
    "\n",
    "# ──────────────────────── Plot curves ────────────────────────────────\n",
    "def plot_metric(metric, ylabel, filename):\n",
    "    plt.figure(figsize=(8, 5))\n",
    "    plt.plot(df['epoch'], df[f'train_{metric}'], label='Train', marker='o')\n",
    "    plt.plot(df['epoch'], df[f'val_{metric}'],   label='Validation', marker='s')\n",
    "    plt.xticks(df['epoch'])\n",
    "    plt.xlabel('Epoch')\n",
    "    plt.ylabel(ylabel)\n",
    "    plt.title(f\"{ylabel} Over Epochs\")\n",
    "    plt.grid(True)\n",
    "    plt.legend()\n",
    "    plt.tight_layout()\n",
    "    plt.savefig(filename)\n",
    "    plt.close()\n",
    "\n",
    "plot_metric('f1',   'Macro‑F1 Score', 'f1_curve.png')\n",
    "plot_metric('loss', 'Cross‑Entropy Loss', 'loss_curve.png')\n",
    "plot_metric('acc',  'Accuracy (%)', 'accuracy_curve.png')\n",
    "\n",
    "print(\"Plots saved: f1_curve.png, loss_curve.png, accuracy_curve.png\")\n"
   ]
  },
  {
   "cell_type": "code",
   "execution_count": 2,
   "id": "1e7ed87f",
   "metadata": {},
   "outputs": [
    {
     "name": "stderr",
     "output_type": "stream",
     "text": [
      "c:\\Users\\HP\\AppData\\Local\\Programs\\Python\\Python313\\Lib\\site-packages\\torchvision\\models\\_utils.py:208: UserWarning: The parameter 'pretrained' is deprecated since 0.13 and may be removed in the future, please use 'weights' instead.\n",
      "  warnings.warn(\n",
      "c:\\Users\\HP\\AppData\\Local\\Programs\\Python\\Python313\\Lib\\site-packages\\torchvision\\models\\_utils.py:223: UserWarning: Arguments other than a weight enum or `None` for 'weights' are deprecated since 0.13 and may be removed in the future. The current behavior is equivalent to passing `weights=None`.\n",
      "  warnings.warn(msg)\n",
      "Testing: 100%|██████████| 33/33 [00:10<00:00,  3.25batch/s]\n"
     ]
    },
    {
     "name": "stdout",
     "output_type": "stream",
     "text": [
      "✅ Results saved to: D:\\Cellula Internship\\Project_1_Teeth_Class\\logs\\test_results_20250712_044035.txt\n"
     ]
    },
    {
     "data": {
      "image/png": "[encoded data removed]",
      "text/plain": [
       "<Figure size 1000x800 with 2 Axes>"
      ]
     },
     "metadata": {},
     "output_type": "display_data"
    },
    {
     "name": "stdout",
     "output_type": "stream",
     "text": [
      "✅ Confusion‑matrix image saved to: D:\\Cellula Internship\\Project_1_Teeth_Class\\logs\\confusion_matrix_20250712_044035.png\n"
     ]
    }
   ],
   "source": [
    "\"\"\"\n",
    "Full testing script for a MobileNet V2 finetuned model.\n",
    "Saves:\n",
    "  • Accuracy, macro‑F1, and full classification report to a timestamped log file\n",
    "  • Confusion‑matrix heat‑map to a PNG image\n",
    "\"\"\"\n",
    "\n",
    "import os\n",
    "import torch\n",
    "import torch.nn as nn\n",
    "from torchvision import transforms, datasets, models\n",
    "from torch.utils.data import DataLoader\n",
    "from sklearn.metrics import f1_score, confusion_matrix, classification_report\n",
    "import numpy as np\n",
    "from tqdm import tqdm\n",
    "import matplotlib.pyplot as plt\n",
    "import seaborn as sns\n",
    "from datetime import datetime\n",
    "\n",
    "# ───────────────────────────────── CONFIG ────────────────────────────────── #\n",
    "test_dir   = r'D:\\Cellula Internship\\Project_1_Teeth_Class\\Pre_augment\\Teeth_Dataset\\Testing'  # ▶ change if needed\n",
    "model_path = r'D:\\Cellula Internship\\mobilenetv2_best_finetuned.pth'                         # ▶ change if needed\n",
    "num_classes = 7\n",
    "batch_size  = 32\n",
    "img_size    = 224\n",
    "device      = torch.device('cuda' if torch.cuda.is_available() else 'cpu')\n",
    "\n",
    "# logging / output paths\n",
    "log_root = r'D:\\Cellula Internship\\Project_1_Teeth_Class\\logs'  # ▶ change if you prefer\n",
    "os.makedirs(log_root, exist_ok=True)\n",
    "run_stamp        = datetime.now().strftime(\"%Y%m%d_%H%M%S\")\n",
    "log_file_path    = os.path.join(log_root, f\"test_results_{run_stamp}.txt\")\n",
    "cm_image_path    = os.path.join(log_root, f\"confusion_matrix_{run_stamp}.png\")\n",
    "\n",
    "# ───────────────────────────────── TRANSFORMS ────────────────────────────── #\n",
    "transform = transforms.Compose([\n",
    "    transforms.Resize((img_size, img_size)),\n",
    "    transforms.ToTensor(),\n",
    "    transforms.Normalize([0.485, 0.456, 0.406],   # ImageNet mean\n",
    "                         [0.229, 0.224, 0.225])   # ImageNet std\n",
    "])\n",
    "\n",
    "# ───────────────────────────────── DATASET / LOADER ──────────────────────── #\n",
    "test_dataset = datasets.ImageFolder(test_dir, transform=transform)\n",
    "test_loader  = DataLoader(test_dataset,\n",
    "                          batch_size=batch_size,\n",
    "                          shuffle=False,\n",
    "                          num_workers=2,\n",
    "                          pin_memory=True)\n",
    "\n",
    "# ───────────────────────────────── MODEL LOAD ────────────────────────────── #\n",
    "model = models.mobilenet_v2(pretrained=False)\n",
    "model.classifier[1] = nn.Linear(model.last_channel, num_classes)\n",
    "state_dict = torch.load(model_path, map_location=device)\n",
    "model.load_state_dict(state_dict)\n",
    "model = model.to(device).eval()\n",
    "\n",
    "# ───────────────────────────────── TEST LOOP ─────────────────────────────── #\n",
    "all_preds  = []\n",
    "all_labels = []\n",
    "\n",
    "with torch.no_grad():\n",
    "    for images, labels in tqdm(test_loader, desc=\"Testing\", unit=\"batch\"):\n",
    "        images, labels = images.to(device), labels.to(device)\n",
    "        outputs = model(images)\n",
    "        _, preds = torch.max(outputs, 1)\n",
    "        all_preds.extend(preds.cpu().numpy())\n",
    "        all_labels.extend(labels.cpu().numpy())\n",
    "\n",
    "# ───────────────────────────────── METRICS ───────────────────────────────── #\n",
    "all_preds  = np.array(all_preds)\n",
    "all_labels = np.array(all_labels)\n",
    "\n",
    "accuracy = (all_preds == all_labels).mean() * 100\n",
    "macro_f1 = f1_score(all_labels, all_preds, average='macro')\n",
    "class_report = classification_report(all_labels,\n",
    "                                     all_preds,\n",
    "                                     target_names=test_dataset.classes,\n",
    "                                     digits=4)\n",
    "conf_mat = confusion_matrix(all_labels, all_preds)\n",
    "\n",
    "# ───────────────────────────────── SAVE LOG FILE ─────────────────────────── #\n",
    "with open(log_file_path, 'w', encoding='utf-8') as f:\n",
    "    f.write(\"──────────────────────── TEST RESULTS ────────────────────────\\n\")\n",
    "    f.write(f\"Timestamp        : {datetime.now().strftime('%Y-%m-%d %H:%M:%S')}\\n\")\n",
    "    f.write(f\"Test directory   : {test_dir}\\n\")\n",
    "    f.write(f\"Model path       : {model_path}\\n\")\n",
    "    f.write(f\"Device           : {device}\\n\")\n",
    "    f.write(f\"Num classes      : {num_classes}\\n\")\n",
    "    f.write(\"───────────────────────────────────────────────────────────────\\n\")\n",
    "    f.write(f\"Accuracy (%)     : {accuracy:.2f}\\n\")\n",
    "    f.write(f\"Macro‑F1         : {macro_f1:.4f}\\n\\n\")\n",
    "    f.write(\"Classification Report:\\n\")\n",
    "    f.write(class_report)\n",
    "    f.write(\"\\n───────────────────────────────────────────────────────────────\\n\")\n",
    "print(f\"✅ Results saved to: {log_file_path}\")\n",
    "\n",
    "# ───────────────────────────────── CONFUSION MATRIX ──────────────────────── #\n",
    "plt.figure(figsize=(10, 8))\n",
    "sns.heatmap(conf_mat,\n",
    "            annot=True,\n",
    "            fmt='d',\n",
    "            cmap='Blues',\n",
    "            xticklabels=test_dataset.classes,\n",
    "            yticklabels=test_dataset.classes)\n",
    "plt.title(\"Confusion Matrix\")\n",
    "plt.xlabel(\"Predicted Label\")\n",
    "plt.ylabel(\"True Label\")\n",
    "plt.tight_layout()\n",
    "plt.savefig(cm_image_path, dpi=300)\n",
    "plt.show()\n",
    "print(f\"✅ Confusion‑matrix image saved to: {cm_image_path}\")\n"
   ]
  }
 ],
 "metadata": {
  "kernelspec": {
   "display_name": "Python 3",
   "language": "python",
   "name": "python3"
  },
  "language_info": {
   "codemirror_mode": {
    "name": "ipython",
    "version": 3
   },
   "file_extension": ".py",
   "mimetype": "text/x-python",
   "name": "python",
   "nbconvert_exporter": "python",
   "pygments_lexer": "ipython3",
   "version": "3.13.4"
  }
 },
 "nbformat": 4,
 "nbformat_minor": 5
}
