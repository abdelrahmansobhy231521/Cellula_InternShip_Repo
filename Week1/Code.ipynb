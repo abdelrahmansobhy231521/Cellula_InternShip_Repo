{
 "cells": [
  {
   "cell_type": "code",
   "execution_count": 2,
   "id": "84526358",
   "metadata": {},
   "outputs": [
    {
     "name": "stderr",
     "output_type": "stream",
     "text": [
      "Augmenting: 100%|██████████| 3087/3087 [00:39<00:00, 78.51it/s]"
     ]
    },
    {
     "name": "stdout",
     "output_type": "stream",
     "text": [
      "✅ Augmentation complete.\n"
     ]
    },
    {
     "name": "stderr",
     "output_type": "stream",
     "text": [
      "\n"
     ]
    }
   ],
   "source": [
    "#data Augmenter\n",
    "import os\n",
    "from PIL import Image\n",
    "from torchvision import transforms\n",
    "from torchvision.datasets import ImageFolder\n",
    "from tqdm import tqdm\n",
    "\n",
    "# Paths\n",
    "input_root = r'D:\\Cellula Internship\\Project_1_Teeth_Class\\Pre_augment\\Teeth_Dataset\\Training'  # Your dataset directory\n",
    "output_root = r'D:\\Cellula Internship\\Project_1_Teeth_Class\\After_augment'  # Where to save augmented images\n",
    "\n",
    "# Number of augmentations per image\n",
    "n_augmentations = 3\n",
    "\n",
    "# Define augmentation pipeline\n",
    "augmentation = transforms.Compose([\n",
    "    transforms.RandomHorizontalFlip(),\n",
    "    transforms.RandomRotation(20),\n",
    "    transforms.ColorJitter(brightness=0.3, contrast=0.3, saturation=0.3),\n",
    "    transforms.RandomResizedCrop(size=(256, 256), scale=(0.8, 1.0)),\n",
    "])\n",
    "\n",
    "# Load dataset\n",
    "dataset = ImageFolder(root=input_root)\n",
    "\n",
    "# Loop over dataset\n",
    "for img_path, class_idx in tqdm(dataset.imgs, desc=\"Augmenting\"):\n",
    "    class_name = dataset.classes[class_idx]\n",
    "    class_input_dir = os.path.join(input_root, class_name)\n",
    "    class_output_dir = os.path.join(output_root, class_name)\n",
    "\n",
    "    # Create output class dir if it doesn't exist\n",
    "    os.makedirs(class_output_dir, exist_ok=True)\n",
    "\n",
    "    # Open original image\n",
    "    img = Image.open(img_path).convert('RGB')\n",
    "\n",
    "    # Save augmentations\n",
    "    base_name = os.path.splitext(os.path.basename(img_path))[0]\n",
    "    for i in range(n_augmentations):\n",
    "        augmented_img = augmentation(img)\n",
    "        save_path = os.path.join(class_output_dir, f\"{base_name}_aug{i}.jpg\")\n",
    "        augmented_img.save(save_path)\n",
    "\n",
    "print(\"✅ Augmentation complete.\")\n"
   ]
  },
  {
   "cell_type": "code",
   "execution_count": 1,
   "id": "7c911cfb",
   "metadata": {},
   "outputs": [
    {
     "name": "stderr",
     "output_type": "stream",
     "text": [
      "c:\\Users\\HP\\AppData\\Local\\Programs\\Python\\Python313\\Lib\\site-packages\\torchvision\\models\\_utils.py:208: UserWarning: The parameter 'pretrained' is deprecated since 0.13 and may be removed in the future, please use 'weights' instead.\n",
      "  warnings.warn(\n",
      "c:\\Users\\HP\\AppData\\Local\\Programs\\Python\\Python313\\Lib\\site-packages\\torchvision\\models\\_utils.py:223: UserWarning: Arguments other than a weight enum or `None` for 'weights' are deprecated since 0.13 and may be removed in the future. The current behavior is equivalent to passing `weights=None`.\n",
      "  warnings.warn(msg)\n",
      "Epoch 1/20: 100%|██████████| 386/386 [00:41<00:00,  9.21it/s]\n"
     ]
    },
    {
     "name": "stdout",
     "output_type": "stream",
     "text": [
      "Train Loss: 643.1127 | Accuracy: 34.04% | F1 Score: 0.3288\n",
      "Validation Accuracy: 42.02% | F1 Score: 0.3851\n",
      "\n"
     ]
    },
    {
     "name": "stderr",
     "output_type": "stream",
     "text": [
      "Epoch 2/20: 100%|██████████| 386/386 [00:38<00:00, 10.02it/s]\n"
     ]
    },
    {
     "name": "stdout",
     "output_type": "stream",
     "text": [
      "Train Loss: 491.4875 | Accuracy: 52.26% | F1 Score: 0.5174\n",
      "Validation Accuracy: 65.95% | F1 Score: 0.6538\n",
      "\n"
     ]
    },
    {
     "name": "stderr",
     "output_type": "stream",
     "text": [
      "Epoch 3/20: 100%|██████████| 386/386 [00:39<00:00,  9.69it/s]\n"
     ]
    },
    {
     "name": "stdout",
     "output_type": "stream",
     "text": [
      "Train Loss: 350.7873 | Accuracy: 66.93% | F1 Score: 0.6673\n",
      "Validation Accuracy: 71.11% | F1 Score: 0.7012\n",
      "\n"
     ]
    },
    {
     "name": "stderr",
     "output_type": "stream",
     "text": [
      "Epoch 4/20: 100%|██████████| 386/386 [00:38<00:00, 10.03it/s]\n"
     ]
    },
    {
     "name": "stdout",
     "output_type": "stream",
     "text": [
      "Train Loss: 253.3833 | Accuracy: 76.48% | F1 Score: 0.7645\n",
      "Validation Accuracy: 81.42% | F1 Score: 0.8144\n",
      "\n"
     ]
    },
    {
     "name": "stderr",
     "output_type": "stream",
     "text": [
      "Epoch 5/20: 100%|██████████| 386/386 [00:38<00:00,  9.95it/s]\n"
     ]
    },
    {
     "name": "stdout",
     "output_type": "stream",
     "text": [
      "Train Loss: 167.7345 | Accuracy: 84.26% | F1 Score: 0.8423\n",
      "Validation Accuracy: 85.60% | F1 Score: 0.8550\n",
      "\n"
     ]
    },
    {
     "name": "stderr",
     "output_type": "stream",
     "text": [
      "Epoch 6/20: 100%|██████████| 386/386 [00:39<00:00,  9.80it/s]\n"
     ]
    },
    {
     "name": "stdout",
     "output_type": "stream",
     "text": [
      "Train Loss: 117.7626 | Accuracy: 89.47% | F1 Score: 0.8956\n",
      "Validation Accuracy: 87.84% | F1 Score: 0.8799\n",
      "\n"
     ]
    },
    {
     "name": "stderr",
     "output_type": "stream",
     "text": [
      "Epoch 7/20: 100%|██████████| 386/386 [00:37<00:00, 10.20it/s]\n"
     ]
    },
    {
     "name": "stdout",
     "output_type": "stream",
     "text": [
      "Train Loss: 89.8691 | Accuracy: 92.02% | F1 Score: 0.9206\n",
      "Validation Accuracy: 90.27% | F1 Score: 0.9049\n",
      "\n"
     ]
    },
    {
     "name": "stderr",
     "output_type": "stream",
     "text": [
      "Epoch 8/20: 100%|██████████| 386/386 [00:40<00:00,  9.44it/s]\n"
     ]
    },
    {
     "name": "stdout",
     "output_type": "stream",
     "text": [
      "Train Loss: 70.0528 | Accuracy: 93.67% | F1 Score: 0.9366\n",
      "Validation Accuracy: 90.95% | F1 Score: 0.9100\n",
      "\n"
     ]
    },
    {
     "name": "stderr",
     "output_type": "stream",
     "text": [
      "Epoch 9/20: 100%|██████████| 386/386 [00:42<00:00,  9.03it/s]\n"
     ]
    },
    {
     "name": "stdout",
     "output_type": "stream",
     "text": [
      "Train Loss: 68.9585 | Accuracy: 93.97% | F1 Score: 0.9396\n",
      "Validation Accuracy: 89.69% | F1 Score: 0.8995\n",
      "\n"
     ]
    },
    {
     "name": "stderr",
     "output_type": "stream",
     "text": [
      "Epoch 10/20: 100%|██████████| 386/386 [00:40<00:00,  9.55it/s]\n"
     ]
    },
    {
     "name": "stdout",
     "output_type": "stream",
     "text": [
      "Train Loss: 53.9393 | Accuracy: 95.12% | F1 Score: 0.9513\n",
      "Validation Accuracy: 91.34% | F1 Score: 0.9129\n",
      "\n"
     ]
    },
    {
     "name": "stderr",
     "output_type": "stream",
     "text": [
      "Epoch 11/20: 100%|██████████| 386/386 [00:40<00:00,  9.43it/s]\n"
     ]
    },
    {
     "name": "stdout",
     "output_type": "stream",
     "text": [
      "Train Loss: 49.5085 | Accuracy: 95.79% | F1 Score: 0.9581\n",
      "Validation Accuracy: 93.97% | F1 Score: 0.9386\n",
      "\n"
     ]
    },
    {
     "name": "stderr",
     "output_type": "stream",
     "text": [
      "Epoch 12/20: 100%|██████████| 386/386 [00:39<00:00,  9.78it/s]\n"
     ]
    },
    {
     "name": "stdout",
     "output_type": "stream",
     "text": [
      "Train Loss: 41.1546 | Accuracy: 96.44% | F1 Score: 0.9646\n",
      "Validation Accuracy: 91.93% | F1 Score: 0.9215\n",
      "\n"
     ]
    },
    {
     "name": "stderr",
     "output_type": "stream",
     "text": [
      "Epoch 13/20: 100%|██████████| 386/386 [00:39<00:00,  9.82it/s]\n"
     ]
    },
    {
     "name": "stdout",
     "output_type": "stream",
     "text": [
      "Train Loss: 41.2194 | Accuracy: 96.39% | F1 Score: 0.9642\n",
      "Validation Accuracy: 93.77% | F1 Score: 0.9385\n",
      "\n"
     ]
    },
    {
     "name": "stderr",
     "output_type": "stream",
     "text": [
      "Epoch 14/20: 100%|██████████| 386/386 [00:39<00:00,  9.67it/s]\n"
     ]
    },
    {
     "name": "stdout",
     "output_type": "stream",
     "text": [
      "Train Loss: 38.0623 | Accuracy: 96.63% | F1 Score: 0.9661\n",
      "Validation Accuracy: 95.53% | F1 Score: 0.9559\n",
      "\n"
     ]
    },
    {
     "name": "stderr",
     "output_type": "stream",
     "text": [
      "Epoch 15/20: 100%|██████████| 386/386 [00:40<00:00,  9.50it/s]\n"
     ]
    },
    {
     "name": "stdout",
     "output_type": "stream",
     "text": [
      "Train Loss: 35.9604 | Accuracy: 96.79% | F1 Score: 0.9681\n",
      "Validation Accuracy: 94.07% | F1 Score: 0.9384\n",
      "\n"
     ]
    },
    {
     "name": "stderr",
     "output_type": "stream",
     "text": [
      "Epoch 16/20: 100%|██████████| 386/386 [00:39<00:00,  9.65it/s]\n"
     ]
    },
    {
     "name": "stdout",
     "output_type": "stream",
     "text": [
      "Train Loss: 38.9614 | Accuracy: 96.49% | F1 Score: 0.9649\n",
      "Validation Accuracy: 95.82% | F1 Score: 0.9567\n",
      "\n"
     ]
    },
    {
     "name": "stderr",
     "output_type": "stream",
     "text": [
      "Epoch 17/20: 100%|██████████| 386/386 [00:39<00:00,  9.77it/s]\n"
     ]
    },
    {
     "name": "stdout",
     "output_type": "stream",
     "text": [
      "Train Loss: 25.5013 | Accuracy: 97.72% | F1 Score: 0.9772\n",
      "Validation Accuracy: 97.76% | F1 Score: 0.9778\n",
      "\n"
     ]
    },
    {
     "name": "stderr",
     "output_type": "stream",
     "text": [
      "Epoch 18/20: 100%|██████████| 386/386 [00:38<00:00,  9.92it/s]\n"
     ]
    },
    {
     "name": "stdout",
     "output_type": "stream",
     "text": [
      "Train Loss: 34.7655 | Accuracy: 96.91% | F1 Score: 0.9692\n",
      "Validation Accuracy: 95.53% | F1 Score: 0.9545\n",
      "\n"
     ]
    },
    {
     "name": "stderr",
     "output_type": "stream",
     "text": [
      "Epoch 19/20: 100%|██████████| 386/386 [00:40<00:00,  9.54it/s]\n"
     ]
    },
    {
     "name": "stdout",
     "output_type": "stream",
     "text": [
      "Train Loss: 26.4726 | Accuracy: 97.70% | F1 Score: 0.9769\n",
      "Validation Accuracy: 98.05% | F1 Score: 0.9792\n",
      "\n"
     ]
    },
    {
     "name": "stderr",
     "output_type": "stream",
     "text": [
      "Epoch 20/20: 100%|██████████| 386/386 [00:40<00:00,  9.62it/s]\n"
     ]
    },
    {
     "name": "stdout",
     "output_type": "stream",
     "text": [
      "Train Loss: 20.8905 | Accuracy: 98.18% | F1 Score: 0.9816\n",
      "Validation Accuracy: 95.33% | F1 Score: 0.9546\n",
      "\n"
     ]
    }
   ],
   "source": [
    "import os\n",
    "import torch\n",
    "import torch.nn as nn\n",
    "import torchvision.transforms as transforms\n",
    "from torchvision.datasets import ImageFolder\n",
    "from torch.utils.data import DataLoader\n",
    "from torchvision.models import mobilenet_v2\n",
    "from sklearn.metrics import f1_score\n",
    "from tqdm import tqdm\n",
    "\n",
    "# Paths\n",
    "train_dir = r'D:\\Cellula Internship\\Project_1_Teeth_Class\\New_dataSet\\Training'\n",
    "val_dir = r'Project_1_Teeth_Class/New_dataSet/Validation'\n",
    "\n",
    "# Config\n",
    "num_classes = 7  # CHANGE THIS\n",
    "batch_size = 32\n",
    "img_size = 224\n",
    "num_epochs = 20\n",
    "learning_rate = 0.001\n",
    "device = torch.device('cuda' if torch.cuda.is_available() else 'cpu')\n",
    "\n",
    "# Transforms with normalization\n",
    "transform = transforms.Compose([\n",
    "    transforms.Resize((img_size, img_size)),\n",
    "    transforms.ToTensor(),\n",
    "    transforms.Normalize([0.485, 0.456, 0.406],   # ImageNet mean\n",
    "                         [0.229, 0.224, 0.225])   # ImageNet std\n",
    "])\n",
    "\n",
    "# Datasets and loaders\n",
    "train_dataset = ImageFolder(train_dir, transform=transform)\n",
    "val_dataset = ImageFolder(val_dir, transform=transform)\n",
    "\n",
    "train_loader = DataLoader(train_dataset, batch_size=batch_size, shuffle=True, num_workers=2)\n",
    "val_loader = DataLoader(val_dataset, batch_size=batch_size, shuffle=False, num_workers=2)\n",
    "\n",
    "# MobileNetV2 from scratch\n",
    "model = mobilenet_v2(pretrained=False)\n",
    "model.classifier[1] = nn.Linear(model.last_channel, num_classes)\n",
    "model = model.to(device)\n",
    "\n",
    "# Loss and optimizer\n",
    "criterion = nn.CrossEntropyLoss()\n",
    "optimizer = torch.optim.Adam(model.parameters(), lr=learning_rate)\n",
    "\n",
    "# Training loop\n",
    "for epoch in range(num_epochs):\n",
    "    model.train()\n",
    "    running_loss = 0.0\n",
    "    total, correct = 0, 0\n",
    "    all_preds, all_labels = [], []\n",
    "\n",
    "    for images, labels in tqdm(train_loader, desc=f\"Epoch {epoch+1}/{num_epochs}\"):\n",
    "        images, labels = images.to(device), labels.to(device)\n",
    "\n",
    "        optimizer.zero_grad()\n",
    "        outputs = model(images)\n",
    "        loss = criterion(outputs, labels)\n",
    "        loss.backward()\n",
    "        optimizer.step()\n",
    "\n",
    "        running_loss += loss.item()\n",
    "        _, preds = torch.max(outputs, 1)\n",
    "        total += labels.size(0)\n",
    "        correct += (preds == labels).sum().item()\n",
    "        all_preds.extend(preds.cpu().numpy())\n",
    "        all_labels.extend(labels.cpu().numpy())\n",
    "\n",
    "    train_acc = 100 * correct / total\n",
    "    train_f1 = f1_score(all_labels, all_preds, average='macro')\n",
    "    print(f\"Train Loss: {running_loss:.4f} | Accuracy: {train_acc:.2f}% | F1 Score: {train_f1:.4f}\")\n",
    "\n",
    "    # Validation\n",
    "    model.eval()\n",
    "    correct_val, total_val = 0, 0\n",
    "    val_preds, val_labels = [], []\n",
    "\n",
    "    with torch.no_grad():\n",
    "        for images, labels in val_loader:\n",
    "            images, labels = images.to(device), labels.to(device)\n",
    "            outputs = model(images)\n",
    "            _, preds = torch.max(outputs, 1)\n",
    "            total_val += labels.size(0)\n",
    "            correct_val += (preds == labels).sum().item()\n",
    "            val_preds.extend(preds.cpu().numpy())\n",
    "            val_labels.extend(labels.cpu().numpy())\n",
    "\n",
    "    val_acc = 100 * correct_val / total_val\n",
    "    val_f1 = f1_score(val_labels, val_preds, average='macro')\n",
    "    print(f\"Validation Accuracy: {val_acc:.2f}% | F1 Score: {val_f1:.4f}\\n\")\n",
    "\n",
    "# Save model\n",
    "torch.save(model.state_dict(), \"mobilenetv2_trained_with_f1.pth\")\n"
   ]
  },
  {
   "cell_type": "code",
   "execution_count": 2,
   "id": "57332f6e",
   "metadata": {},
   "outputs": [
    {
     "name": "stderr",
     "output_type": "stream",
     "text": [
      "c:\\Users\\HP\\AppData\\Local\\Programs\\Python\\Python313\\Lib\\site-packages\\torchvision\\models\\_utils.py:208: UserWarning: The parameter 'pretrained' is deprecated since 0.13 and may be removed in the future, please use 'weights' instead.\n",
      "  warnings.warn(\n",
      "c:\\Users\\HP\\AppData\\Local\\Programs\\Python\\Python313\\Lib\\site-packages\\torchvision\\models\\_utils.py:223: UserWarning: Arguments other than a weight enum or `None` for 'weights' are deprecated since 0.13 and may be removed in the future. The current behavior is equivalent to passing `weights=None`.\n",
      "  warnings.warn(msg)\n",
      "Testing: 100%|██████████| 33/33 [00:09<00:00,  3.44it/s]\n"
     ]
    },
    {
     "name": "stdout",
     "output_type": "stream",
     "text": [
      "\n",
      "✅ Test Accuracy: 94.26%\n",
      "✅ Test F1 Score (macro): 0.9418\n",
      "\n",
      "Classification Report:\n",
      "               precision    recall  f1-score   support\n",
      "\n",
      "         CaS       0.97      0.89      0.93       160\n",
      "         CoS       0.96      1.00      0.98       149\n",
      "         Gum       0.99      0.92      0.95       120\n",
      "          MC       0.87      0.98      0.92       180\n",
      "          OC       0.96      0.84      0.90       108\n",
      "         OLP       0.94      0.96      0.95       180\n",
      "          OT       0.96      0.97      0.97       131\n",
      "\n",
      "    accuracy                           0.94      1028\n",
      "   macro avg       0.95      0.94      0.94      1028\n",
      "weighted avg       0.95      0.94      0.94      1028\n",
      "\n"
     ]
    },
    {
     "data": {
      "image/png": "[encoded data removed]",
      "text/plain": [
       "<Figure size 1000x800 with 2 Axes>"
      ]
     },
     "metadata": {},
     "output_type": "display_data"
    }
   ],
   "source": [
    "import torch\n",
    "import torch.nn as nn\n",
    "from torchvision import transforms, datasets, models\n",
    "from torch.utils.data import DataLoader\n",
    "from sklearn.metrics import f1_score, confusion_matrix, classification_report\n",
    "import numpy as np\n",
    "from tqdm import tqdm\n",
    "import matplotlib.pyplot as plt\n",
    "import seaborn as sns\n",
    "\n",
    "# === CONFIG ===\n",
    "test_dir = r'D:\\Cellula Internship\\Project_1_Teeth_Class\\Pre_augment\\Teeth_Dataset\\Testing'  # 🔁 Replace with your actual test folder path\n",
    "model_path = r'D:\\Cellula Internship\\mobilenetv2_trained_with_f1.pth'\n",
    "num_classes = 7  # 🔁 Set your actual number of classes\n",
    "batch_size = 32\n",
    "img_size = 224\n",
    "device = torch.device('cuda' if torch.cuda.is_available() else 'cpu')\n",
    "\n",
    "# === DATA TRANSFORMS ===\n",
    "transform = transforms.Compose([\n",
    "    transforms.Resize((img_size, img_size)),\n",
    "    transforms.ToTensor(),\n",
    "    transforms.Normalize([0.485, 0.456, 0.406],   # ImageNet mean\n",
    "                         [0.229, 0.224, 0.225])   # ImageNet std\n",
    "])\n",
    "\n",
    "# === LOAD DATA ===\n",
    "test_dataset = datasets.ImageFolder(test_dir, transform=transform)\n",
    "test_loader = DataLoader(test_dataset, batch_size=batch_size, shuffle=False, num_workers=2)\n",
    "\n",
    "# === LOAD MODEL ===\n",
    "model = models.mobilenet_v2(pretrained=False)\n",
    "model.classifier[1] = nn.Linear(model.last_channel, num_classes)\n",
    "model.load_state_dict(torch.load(model_path, map_location=device))\n",
    "model = model.to(device)\n",
    "model.eval()\n",
    "\n",
    "# === TESTING ===\n",
    "all_preds = []\n",
    "all_labels = []\n",
    "with torch.no_grad():\n",
    "    for images, labels in tqdm(test_loader, desc=\"Testing\"):\n",
    "        images, labels = images.to(device), labels.to(device)\n",
    "        outputs = model(images)\n",
    "        _, preds = torch.max(outputs, 1)\n",
    "        all_preds.extend(preds.cpu().numpy())\n",
    "        all_labels.extend(labels.cpu().numpy())\n",
    "\n",
    "# === METRICS ===\n",
    "acc = np.mean(np.array(all_preds) == np.array(all_labels)) * 100\n",
    "f1 = f1_score(all_labels, all_preds, average='macro')\n",
    "\n",
    "print(f\"\\n✅ Test Accuracy: {acc:.2f}%\")\n",
    "print(f\"✅ Test F1 Score (macro): {f1:.4f}\")\n",
    "print(\"\\nClassification Report:\\n\", classification_report(all_labels, all_preds, target_names=test_dataset.classes))\n",
    "\n",
    "# === OPTIONAL: CONFUSION MATRIX ===\n",
    "conf_matrix = confusion_matrix(all_labels, all_preds)\n",
    "plt.figure(figsize=(10, 8))\n",
    "sns.heatmap(conf_matrix, annot=True, fmt='d', xticklabels=test_dataset.classes, yticklabels=test_dataset.classes, cmap='Blues')\n",
    "plt.xlabel(\"Predicted Label\")\n",
    "plt.ylabel(\"True Label\")\n",
    "plt.title(\"Confusion Matrix\")\n",
    "plt.tight_layout()\n",
    "plt.show()\n"
   ]
  },
  {
   "cell_type": "code",
   "execution_count": null,
   "id": "aa35f05e",
   "metadata": {},
   "outputs": [],
   "source": []
  }
 ],
 "metadata": {
  "kernelspec": {
   "display_name": "Python 3",
   "language": "python",
   "name": "python3"
  },
  "language_info": {
   "codemirror_mode": {
    "name": "ipython",
    "version": 3
   },
   "file_extension": ".py",
   "mimetype": "text/x-python",
   "name": "python",
   "nbconvert_exporter": "python",
   "pygments_lexer": "ipython3",
   "version": "3.13.4"
  }
 },
 "nbformat": 4,
 "nbformat_minor": 5
}
